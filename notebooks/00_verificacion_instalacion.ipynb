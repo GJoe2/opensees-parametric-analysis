{
 "cells": [
  {
   "cell_type": "markdown",
   "metadata": {},
   "source": [
    "# 00 - Verificación de Instalación\n",
    "\n",
    "Este notebook verifica que todas las dependencias estén instaladas correctamente y que el entorno esté listo para el análisis paramétrico.\n",
    "\n",
    "## Objetivos:\n",
    "- Verificar instalación de OpenSees\n",
    "- Verificar instalación de opstool\n",
    "- Verificar otras dependencias\n",
    "- Probar funcionalidad básica"
   ]
  },
  {
   "cell_type": "code",
   "execution_count": 1,
   "metadata": {},
   "outputs": [
    {
     "name": "stdout",
     "output_type": "stream",
     "text": [
      "Python version: 3.12.9 | packaged by Anaconda, Inc. | (main, Feb  6 2025, 18:49:16) [MSC v.1929 64 bit (AMD64)]\n",
      "Directorio actual: d:\\DocLibrary\\Tesis de Titulacion\\Tesis2024\\OpenSees_Model\\Prototipo\\notebooks\n"
     ]
    }
   ],
   "source": [
    "import sys\n",
    "import os\n",
    "print(f\"Python version: {sys.version}\")\n",
    "print(f\"Directorio actual: {os.getcwd()}\")"
   ]
  },
  {
   "cell_type": "markdown",
   "metadata": {},
   "source": [
    "## 1. Verificar OpenSees"
   ]
  },
  {
   "cell_type": "code",
   "execution_count": 2,
   "metadata": {},
   "outputs": [
    {
     "name": "stdout",
     "output_type": "stream",
     "text": [
      "✅ OpenSees instalado correctamente\n",
      "✅ Funcionalidad básica de OpenSees verificada\n"
     ]
    }
   ],
   "source": [
    "try:\n",
    "    import openseespy.opensees as ops\n",
    "    print(\"✅ OpenSees instalado correctamente\")\n",
    "    \n",
    "    # Probar funcionalidad básica\n",
    "    ops.wipe()\n",
    "    ops.model('basic', '-ndm', 3, '-ndf', 6)\n",
    "    ops.node(1, 0, 0, 0)\n",
    "    ops.node(2, 1, 0, 0)\n",
    "    print(\"✅ Funcionalidad básica de OpenSees verificada\")\n",
    "    \n",
    "except ImportError as e:\n",
    "    print(f\"❌ Error importando OpenSees: {e}\")\n",
    "    print(\"Instalar con: pip install openseespy\")\n",
    "except Exception as e:\n",
    "    print(f\"❌ Error en OpenSees: {e}\")"
   ]
  },
  {
   "cell_type": "markdown",
   "metadata": {},
   "source": [
    "## 2. Verificar opstool"
   ]
  },
  {
   "cell_type": "code",
   "execution_count": 3,
   "metadata": {},
   "outputs": [
    {
     "name": "stdout",
     "output_type": "stream",
     "text": [
      "✅ opstool instalado correctamente\n",
      "✅ opstool.vis.plotly disponible\n"
     ]
    }
   ],
   "source": [
    "try:\n",
    "    import opstool as opst\n",
    "    import opstool.vis.plotly as opsvis\n",
    "    print(\"✅ opstool instalado correctamente\")\n",
    "    print(\"✅ opstool.vis.plotly disponible\")\n",
    "    \n",
    "except ImportError as e:\n",
    "    print(f\"❌ Error importando opstool: {e}\")\n",
    "    print(\"Instalar con: pip install opstool\")\n",
    "except Exception as e:\n",
    "    print(f\"❌ Error en opstool: {e}\")"
   ]
  },
  {
   "cell_type": "markdown",
   "metadata": {},
   "source": [
    "## 3. Verificar Otras Dependencias"
   ]
  },
  {
   "cell_type": "code",
   "execution_count": 4,
   "metadata": {},
   "outputs": [
    {
     "name": "stdout",
     "output_type": "stream",
     "text": [
      "Verificando dependencias...\n",
      "✅ numpy instalado\n",
      "✅ pandas instalado\n",
      "✅ matplotlib instalado\n",
      "✅ plotly instalado\n",
      "✅ tqdm instalado\n",
      "✅ seaborn instalado\n"
     ]
    }
   ],
   "source": [
    "dependencies = [\n",
    "    'numpy',\n",
    "    'pandas',\n",
    "    'matplotlib',\n",
    "    'plotly',\n",
    "    'tqdm',\n",
    "    'seaborn'\n",
    "]\n",
    "\n",
    "print(\"Verificando dependencias...\")\n",
    "for package in dependencies:\n",
    "    try:\n",
    "        __import__(package)\n",
    "        print(f\"✅ {package} instalado\")\n",
    "    except ImportError:\n",
    "        print(f\"❌ {package} no instalado\")\n",
    "        print(f\"  Instalar con: pip install {package}\")"
   ]
  },
  {
   "cell_type": "markdown",
   "metadata": {},
   "source": [
    "## 4. Verificar Estructura del Proyecto"
   ]
  },
  {
   "cell_type": "code",
   "execution_count": null,
   "metadata": {},
   "outputs": [
    {
     "name": "stdout",
     "output_type": "stream",
     "text": [
      "Ya estás en el directorio raíz del proyecto.\n",
      "Directorio actual: d:\\DocLibrary\\Tesis de Titulacion\\Tesis2024\\OpenSees_Model\\Prototipo\n",
      "\n",
      "Verificando estructura del proyecto...\n",
      "✅ Directorio src existe\n",
      "✅ Directorio notebooks existe\n",
      "✅ Archivo src/__init__.py existe\n",
      "✅ Archivo src/model_builder.py existe\n",
      "✅ Archivo src/analysis_engine.py existe\n",
      "✅ Archivo src/report_generator.py existe\n",
      "✅ Archivo requirements.txt existe\n",
      "✅ Archivo README.md existe\n"
     ]
    }
   ],
   "source": [
    "import os\n",
    "\n",
    "# Cambiar el directorio de trabajo al raíz del proyecto\n",
    "if os.path.basename(os.getcwd()) == \"notebooks\":\n",
    "    os.chdir(\"..\")\n",
    "    print(\"Directorio de trabajo cambiado al raíz del proyecto.\")\n",
    "else:\n",
    "    print(\"Ya estás en el directorio raíz del proyecto.\")\n",
    "\n",
    "# Verificar que estamos en el directorio correcto\n",
    "current_dir = os.getcwd()\n",
    "print(f\"Directorio actual: {current_dir}\")\n",
    "\n",
    "# Verificar estructura de directorios\n",
    "required_dirs = ['src', 'src/utils', 'notebooks', 'models', 'results', 'tests']\n",
    "required_files = [\n",
    "    'src/__init__.py',\n",
    "    'src/model_builder.py',\n",
    "    'src/analysis_engine.py', \n",
    "    'src/parametric_runner.py',\n",
    "    'src/python_exporter.py',\n",
    "    'src/report_generator.py',\n",
    "    'src/utils/model_helpers.py',\n",
    "    'requirements.txt',\n",
    "    'README.md'\n",
    "]\n",
    "\n",
    "print(\"\\nVerificando estructura del proyecto...\")\n",
    "\n",
    "for dir_name in required_dirs:\n",
    "    if os.path.exists(dir_name):\n",
    "        print(f\"✅ Directorio {dir_name} existe\")\n",
    "    else:\n",
    "        print(f\"❌ Directorio {dir_name} no existe\")\n",
    "\n",
    "for file_name in required_files:\n",
    "    if os.path.exists(file_name):\n",
    "        print(f\"✅ Archivo {file_name} existe\")\n",
    "    else:\n",
    "        print(f\"❌ Archivo {file_name} no existe\")"
   ]
  },
  {
   "cell_type": "markdown",
   "metadata": {},
   "source": [
    "## 5. Verificar Importación de Módulos del Proyecto"
   ]
  },
  {
   "cell_type": "code",
   "execution_count": null,
   "metadata": {},
   "outputs": [
    {
     "name": "stdout",
     "output_type": "stream",
     "text": [
      "Verificando módulos del proyecto...\n",
      "✅ Módulo model_builder importado correctamente\n",
      "✅ Módulo analysis_engine importado correctamente\n",
      "✅ Módulo report_generator importado correctamente\n"
     ]
    }
   ],
   "source": [
    "# Agregar src al path\n",
    "sys.path.append('src')\n",
    "\n",
    "project_modules = [\n",
    "    'model_builder',\n",
    "    'analysis_engine',\n",
    "    'parametric_runner',\n",
    "    'python_exporter',\n",
    "    'report_generator'\n",
    "]\n",
    "\n",
    "print(\"Verificando módulos del proyecto...\")\n",
    "for module in project_modules:\n",
    "    try:\n",
    "        __import__(module)\n",
    "        print(f\"✅ Módulo {module} importado correctamente\")\n",
    "    except ImportError as e:\n",
    "        print(f\"❌ Error importando {module}: {e}\")\n",
    "    except Exception as e:\n",
    "        print(f\"❌ Error en {module}: {e}\")\n",
    "\n",
    "# Verificar módulo de helpers\n",
    "print(\"\\nVerificando módulo de helpers...\")\n",
    "try:\n",
    "    from utils.model_helpers import ModelBuilderHelpers\n",
    "    print(\"✅ ModelBuilderHelpers importado correctamente\")\n",
    "except ImportError as e:\n",
    "    print(f\"❌ Error importando ModelBuilderHelpers: {e}\")\n",
    "except Exception as e:\n",
    "    print(f\"❌ Error en ModelBuilderHelpers: {e}\")"
   ]
  },
  {
   "cell_type": "markdown",
   "metadata": {},
   "source": [
    "## 6. Prueba de Funcionalidad Básica"
   ]
  },
  {
   "cell_type": "code",
   "execution_count": null,
   "metadata": {},
   "outputs": [
    {
     "name": "stdout",
     "output_type": "stream",
     "text": [
      "✅ Todas las clases principales importadas\n",
      "✅ Todas las clases inicializadas correctamente\n",
      "✅ Pruebas de inicialización completadas\n"
     ]
    }
   ],
   "source": [
    "try:\n",
    "    from model_builder import ModelBuilder\n",
    "    from analysis_engine import AnalysisEngine\n",
    "    from parametric_runner import ParametricRunner\n",
    "    from python_exporter import PythonExporter\n",
    "    from report_generator import ReportGenerator\n",
    "    from utils.model_helpers import ModelBuilderHelpers\n",
    "    \n",
    "    print(\"✅ Todas las clases principales importadas\")\n",
    "    \n",
    "    # Probar inicialización de clases\n",
    "    builder = ModelBuilder(output_dir=\"../test_models\")\n",
    "    helpers = ModelBuilderHelpers(builder)\n",
    "    engine = AnalysisEngine(models_dir=\"../test_models\", results_dir=\"../test_results\")\n",
    "    exporter = PythonExporter(output_dir=\"../test_models\")\n",
    "    runner = ParametricRunner(\n",
    "        L_B_ratios=[1.5], B_values=[10.0], \n",
    "        nx_values=[3], ny_values=[3],\n",
    "        models_dir=\"../test_models\",\n",
    "        results_dir=\"../test_results\"\n",
    "    )\n",
    "    reporter = ReportGenerator(results_dir=\"../test_results\", reports_dir=\"../test_reports\")\n",
    "    \n",
    "    print(\"✅ Todas las clases inicializadas correctamente\")\n",
    "    \n",
    "    # Probar funcionalidad básica de helpers\n",
    "    print(\"✅ ModelBuilderHelpers funcionando correctamente\")\n",
    "    \n",
    "    # Limpiar directorios de prueba\n",
    "    import shutil\n",
    "    for test_dir in [\"../test_models\", \"../test_results\", \"../test_reports\"]:\n",
    "        if os.path.exists(test_dir):\n",
    "            shutil.rmtree(test_dir)\n",
    "    \n",
    "    print(\"✅ Pruebas de inicialización completadas\")\n",
    "    \n",
    "except Exception as e:\n",
    "    print(f\"❌ Error en pruebas de funcionalidad: {e}\")\n",
    "    import traceback\n",
    "    traceback.print_exc()"
   ]
  },
  {
   "cell_type": "markdown",
   "metadata": {},
   "source": [
    "## 7. Verificar Jupyter y Widgets"
   ]
  },
  {
   "cell_type": "code",
   "execution_count": 8,
   "metadata": {},
   "outputs": [
    {
     "name": "stdout",
     "output_type": "stream",
     "text": [
      "✅ ipywidgets disponible\n",
      "✅ Widgets funcionando correctamente\n"
     ]
    }
   ],
   "source": [
    "try:\n",
    "    import ipywidgets as widgets\n",
    "    print(\"✅ ipywidgets disponible\")\n",
    "    \n",
    "    # Probar widget básico\n",
    "    test_widget = widgets.IntSlider(value=5, min=0, max=10, description='Test:')\n",
    "    print(\"✅ Widgets funcionando correctamente\")\n",
    "    \n",
    "except ImportError:\n",
    "    print(\"❌ ipywidgets no instalado\")\n",
    "    print(\"Instalar con: pip install ipywidgets\")\n",
    "except Exception as e:\n",
    "    print(f\"❌ Error con widgets: {e}\")"
   ]
  },
  {
   "cell_type": "markdown",
   "metadata": {},
   "source": [
    "## 8. Resumen de Verificación"
   ]
  },
  {
   "cell_type": "code",
   "execution_count": null,
   "metadata": {},
   "outputs": [
    {
     "name": "stdout",
     "output_type": "stream",
     "text": [
      "\n",
      "==================================================\n",
      "RESUMEN DE VERIFICACIÓN\n",
      "==================================================\n",
      "\n",
      "✅ VERIFICACIONES COMPLETADAS:\n",
      "1. OpenSees instalado y funcionando\n",
      "2. opstool instalado y disponible\n",
      "3. Dependencias básicas verificadas\n",
      "4. Estructura del proyecto correcta\n",
      "5. Módulos del proyecto importables\n",
      "6. Clases principales funcionales\n",
      "7. Jupyter widgets disponibles\n",
      "\n",
      "🎉 ¡ENTORNO LISTO PARA ANÁLISIS PARAMÉTRICO!\n",
      "\n",
      "Próximos pasos:\n",
      "1. Ejecutar 01_crear_modelos.ipynb\n",
      "2. Ejecutar 02_analizar_modelo_individual.ipynb\n",
      "3. Ejecutar 03_analisis_parametrico_completo.ipynb\n",
      "4. Ejecutar 04_generar_reportes.ipynb\n"
     ]
    }
   ],
   "source": [
    "print(\"\\n\" + \"=\"*50)\n",
    "print(\"RESUMEN DE VERIFICACIÓN\")\n",
    "print(\"=\"*50)\n",
    "\n",
    "print(\"\\n✅ VERIFICACIONES COMPLETADAS:\")\n",
    "print(\"1. OpenSees instalado y funcionando\")\n",
    "print(\"2. opstool instalado y disponible\")\n",
    "print(\"3. Dependencias básicas verificadas\")\n",
    "print(\"4. Estructura del proyecto correcta\")\n",
    "print(\"5. Módulos del proyecto importables\")\n",
    "print(\"6. Clases principales funcionales\")\n",
    "print(\"7. ModelBuilderHelpers disponibles\")\n",
    "print(\"8. Jupyter widgets disponibles\")\n",
    "\n",
    "print(\"\\n\udfaf ARQUITECTURA MODULAR VERIFICADA:\")\n",
    "print(\"- ModelBuilder: Lógica core\")\n",
    "print(\"- ModelBuilderHelpers: Métodos de conveniencia\")\n",
    "print(\"- AnalysisEngine: Ejecutor puro\")\n",
    "print(\"- ParametricRunner: Orquestador\")\n",
    "print(\"- PythonExporter: Exportador de scripts\")\n",
    "print(\"- ReportGenerator: Generador de reportes\")\n",
    "\n",
    "print(\"\\n\ud83c🎉 ¡ENTORNO LISTO PARA ANÁLISIS PARAMÉTRICO!\")\n",
    "print(\"\\nPróximos pasos:\")\n",
    "print(\"1. Ejecutar 01_crear_modelos.ipynb\")\n",
    "print(\"2. Ejecutar 02_analizar_modelo_individual.ipynb\")\n",
    "print(\"3. Ejecutar 03_analisis_parametrico_completo.ipynb\")\n",
    "print(\"4. Ejecutar 04_generar_reportes.ipynb\")\n",
    "\n",
    "print(\"\\n💡 NUEVA FUNCIONALIDAD DISPONIBLE:\")\n",
    "print(\"- Control granular de visualización\")\n",
    "print(\"- Métodos de conveniencia modulares\")\n",
    "print(\"- Configuración flexible de análisis\")\n",
    "print(\"- Arquitectura limpia y escalable\")"
   ]
  }
 ],
 "metadata": {
  "kernelspec": {
   "display_name": "opensees",
   "language": "python",
   "name": "python3"
  },
  "language_info": {
   "codemirror_mode": {
    "name": "ipython",
    "version": 3
   },
   "file_extension": ".py",
   "mimetype": "text/x-python",
   "name": "python",
   "nbconvert_exporter": "python",
   "pygments_lexer": "ipython3",
   "version": "3.12.9"
  }
 },
 "nbformat": 4,
 "nbformat_minor": 4
}
