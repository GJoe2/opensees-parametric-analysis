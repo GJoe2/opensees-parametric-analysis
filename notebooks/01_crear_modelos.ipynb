{
 "cells": [
  {
   "cell_type": "markdown",
   "metadata": {},
   "source": [
    "# 01 - Crear Modelos Paramétricos\n",
    "\n",
    "Este notebook demuestra cómo crear modelos paramétricos usando la clase `ModelBuilder`.\n",
    "\n",
    "## Objetivos:\n",
    "- Crear un modelo individual para verificar la lógica\n",
    "- Generar múltiples modelos con diferentes parámetros\n",
    "- Verificar la estructura de archivos generados"
   ]
  },
  {
   "cell_type": "code",
   "execution_count": 3,
   "metadata": {},
   "outputs": [
    {
     "ename": "ImportError",
     "evalue": "attempted relative import with no known parent package",
     "output_type": "error",
     "traceback": [
      "\u001b[31m---------------------------------------------------------------------------\u001b[39m",
      "\u001b[31mImportError\u001b[39m                               Traceback (most recent call last)",
      "\u001b[36mCell\u001b[39m\u001b[36m \u001b[39m\u001b[32mIn[3]\u001b[39m\u001b[32m, line 6\u001b[39m\n\u001b[32m      4\u001b[39m \u001b[38;5;28;01mfrom\u001b[39;00m\u001b[38;5;250m \u001b[39m\u001b[34;01mmodel_builder\u001b[39;00m\u001b[38;5;250m \u001b[39m\u001b[38;5;28;01mimport\u001b[39;00m ModelBuilder\n\u001b[32m      5\u001b[39m \u001b[38;5;28;01mfrom\u001b[39;00m\u001b[38;5;250m \u001b[39m\u001b[34;01mutils\u001b[39;00m\u001b[34;01m.\u001b[39;00m\u001b[34;01mmodel_helpers\u001b[39;00m\u001b[38;5;250m \u001b[39m\u001b[38;5;28;01mimport\u001b[39;00m ModelBuilderHelpers\n\u001b[32m----> \u001b[39m\u001b[32m6\u001b[39m \u001b[38;5;28;01mfrom\u001b[39;00m\u001b[38;5;250m \u001b[39m\u001b[34;01mparametric_runner\u001b[39;00m\u001b[38;5;250m \u001b[39m\u001b[38;5;28;01mimport\u001b[39;00m ParametricRunner\n\u001b[32m      7\u001b[39m \u001b[38;5;28;01mimport\u001b[39;00m\u001b[38;5;250m \u001b[39m\u001b[34;01mjson\u001b[39;00m\n\u001b[32m      8\u001b[39m \u001b[38;5;28;01mimport\u001b[39;00m\u001b[38;5;250m \u001b[39m\u001b[34;01mos\u001b[39;00m\n",
      "\u001b[36mFile \u001b[39m\u001b[32md:\\DocLibrary\\Tesis de Titulacion\\Tesis2024\\OpenSees_Model\\Prototipo\\src\\parametric_runner.py:5\u001b[39m\n\u001b[32m      2\u001b[39m \u001b[38;5;28;01mimport\u001b[39;00m\u001b[38;5;250m \u001b[39m\u001b[34;01mrandom\u001b[39;00m\n\u001b[32m      3\u001b[39m \u001b[38;5;28;01mfrom\u001b[39;00m\u001b[38;5;250m \u001b[39m\u001b[34;01mtyping\u001b[39;00m\u001b[38;5;250m \u001b[39m\u001b[38;5;28;01mimport\u001b[39;00m Dict, List\n\u001b[32m----> \u001b[39m\u001b[32m5\u001b[39m \u001b[38;5;28;01mfrom\u001b[39;00m\u001b[38;5;250m \u001b[39m\u001b[34;01m.\u001b[39;00m\u001b[34;01mmodel_builder\u001b[39;00m\u001b[38;5;250m \u001b[39m\u001b[38;5;28;01mimport\u001b[39;00m ModelBuilder\n\u001b[32m      6\u001b[39m \u001b[38;5;28;01mfrom\u001b[39;00m\u001b[38;5;250m \u001b[39m\u001b[34;01m.\u001b[39;00m\u001b[34;01manalysis_engine\u001b[39;00m\u001b[38;5;250m \u001b[39m\u001b[38;5;28;01mimport\u001b[39;00m AnalysisEngine\n\u001b[32m      7\u001b[39m \u001b[38;5;28;01mfrom\u001b[39;00m\u001b[38;5;250m \u001b[39m\u001b[34;01m.\u001b[39;00m\u001b[34;01mreport_generator\u001b[39;00m\u001b[38;5;250m \u001b[39m\u001b[38;5;28;01mimport\u001b[39;00m ReportGenerator\n",
      "\u001b[31mImportError\u001b[39m: attempted relative import with no known parent package"
     ]
    }
   ],
   "source": [
    "import sys\n",
    "sys.path.append('../src')\n",
    "\n",
    "from model_builder import ModelBuilder\n",
    "from utils.model_helpers import ModelBuilderHelpers\n",
    "from parametric_runner import ParametricRunner\n",
    "import json\n",
    "import os"
   ]
  },
  {
   "cell_type": "markdown",
   "metadata": {},
   "source": []
  },
  {
   "cell_type": "markdown",
   "metadata": {},
   "source": [
    "## 1. Crear un Modelo Individual"
   ]
  },
  {
   "cell_type": "code",
   "execution_count": 2,
   "metadata": {},
   "outputs": [
    {
     "ename": "NameError",
     "evalue": "name 'ModelBuilderHelpers' is not defined",
     "output_type": "error",
     "traceback": [
      "\u001b[31m---------------------------------------------------------------------------\u001b[39m",
      "\u001b[31mNameError\u001b[39m                                 Traceback (most recent call last)",
      "\u001b[36mCell\u001b[39m\u001b[36m \u001b[39m\u001b[32mIn[2]\u001b[39m\u001b[32m, line 3\u001b[39m\n\u001b[32m      1\u001b[39m \u001b[38;5;66;03m# Inicializar el constructor de modelos y helpers\u001b[39;00m\n\u001b[32m      2\u001b[39m builder = ModelBuilder(output_dir=\u001b[33m\"\u001b[39m\u001b[33m../models\u001b[39m\u001b[33m\"\u001b[39m)\n\u001b[32m----> \u001b[39m\u001b[32m3\u001b[39m helpers = ModelBuilderHelpers(builder)\n\u001b[32m      5\u001b[39m \u001b[38;5;66;03m# Crear un modelo individual para verificar\u001b[39;00m\n\u001b[32m      6\u001b[39m L_B_ratio = \u001b[32m1.5\u001b[39m  \u001b[38;5;66;03m# Relación L/B\u001b[39;00m\n",
      "\u001b[31mNameError\u001b[39m: name 'ModelBuilderHelpers' is not defined"
     ]
    }
   ],
   "source": [
    "# Inicializar el constructor de modelos y helpers\n",
    "builder = ModelBuilder(output_dir=\"../models\")\n",
    "helpers = ModelBuilderHelpers(builder)\n",
    "\n",
    "# Crear un modelo individual para verificar\n",
    "L_B_ratio = 1.5  # Relación L/B\n",
    "B = 10.0         # Ancho de la estructura en metros\n",
    "nx = 4           # Número de ejes en X\n",
    "ny = 3           # Número de ejes en Y\n",
    "\n",
    "print(f\"Creando modelo con L/B={L_B_ratio}, B={B}m, nx={nx}, ny={ny}\")\n",
    "\n",
    "# Opción 1: Usar el método core flexible\n",
    "model_info = builder.create_model(L_B_ratio, B, nx, ny, model_name=\"ejemplo_core\")\n",
    "print(f\"Modelo core creado: {model_info['name']}\")\n",
    "\n",
    "# Opción 2: Usar métodos de conveniencia \n",
    "model_static = helpers.create_static_only_model(L_B_ratio, B, nx, ny, \"ejemplo_estatico\")\n",
    "print(f\"Modelo estático creado: {model_static['name']}\")\n",
    "\n",
    "model_complete = helpers.create_complete_model(L_B_ratio, B, nx, ny, \"ejemplo_completo\", visualize=True)\n",
    "print(f\"Modelo completo creado: {model_complete['name']}\")\n",
    "\n",
    "print(f\"\\nArchivos guardados en: {builder.output_dir}/\")"
   ]
  },
  {
   "cell_type": "markdown",
   "metadata": {},
   "source": [
    "## 2. Verificar la Estructura del Modelo\n",
    "\n",
    "Examinemos los detalles de uno de los modelos creados:"
   ]
  },
  {
   "cell_type": "markdown",
   "metadata": {},
   "source": [
    "## 3. Demostrar Control de Visualización\n",
    "\n",
    "La nueva arquitectura permite control granular de las visualizaciones:"
   ]
  },
  {
   "cell_type": "code",
   "execution_count": null,
   "metadata": {},
   "outputs": [],
   "source": [
    "# Ejemplo de control granular de visualización\n",
    "print(\"=== CONTROL DE VISUALIZACIÓN ===\")\n",
    "\n",
    "# Modelo sin visualización (análisis rápido)\n",
    "model_fast = builder.create_model(\n",
    "    L_B_ratio, B, nx, ny, model_name=\"ejemplo_rapido\",\n",
    "    enabled_analyses=['static', 'modal'],\n",
    "    analysis_params={\n",
    "        'static': {'steps': 5},\n",
    "        'modal': {'num_modes': 3},\n",
    "        'visualization': {'enabled': False}  # Sin visualización\n",
    "    }\n",
    ")\n",
    "print(f\"✅ Modelo rápido (sin viz): {model_fast['name']}\")\n",
    "\n",
    "# Modelo con visualización específica\n",
    "model_viz = builder.create_model(\n",
    "    L_B_ratio, B, nx, ny, model_name=\"ejemplo_con_viz\",\n",
    "    enabled_analyses=['static', 'modal'],\n",
    "    analysis_params={\n",
    "        'static': {'steps': 10},\n",
    "        'modal': {'num_modes': 5},\n",
    "        'visualization': {\n",
    "            'enabled': True,\n",
    "            'static_deformed': True,  # Deformada estática\n",
    "            'modal_shapes': True,     # Formas modales\n",
    "            'deform_scale': 200,\n",
    "            'show_nodes': True\n",
    "        }\n",
    "    }\n",
    ")\n",
    "print(f\"✅ Modelo con visualización: {model_viz['name']}\")\n",
    "\n",
    "# Usando métodos de conveniencia con visualización\n",
    "model_conv = helpers.create_modal_only_model(\n",
    "    L_B_ratio, B, nx, ny, \"ejemplo_modal_conv\",\n",
    "    num_modes=8, visualize=True\n",
    ")\n",
    "print(f\"✅ Método de conveniencia con viz: {model_conv['name']}\")"
   ]
  },
  {
   "cell_type": "markdown",
   "metadata": {},
   "source": [
    "## 3.1. Métodos de Conveniencia Adicionales\n",
    "\n",
    "Los helpers incluyen varios métodos específicos para diferentes tipos de análisis:"
   ]
  },
  {
   "cell_type": "code",
   "execution_count": null,
   "metadata": {},
   "outputs": [],
   "source": [
    "print(\"=== MÉTODOS DE CONVENIENCIA ADICIONALES ===\")\n",
    "\n",
    "# Modelo dinámico (estático + dinámico)\n",
    "model_dynamic = helpers.create_dynamic_model(\n",
    "    L_B_ratio, B, nx, ny, \"ejemplo_dinamico\",\n",
    "    dt=0.005, num_steps=2000, visualize=True\n",
    ")\n",
    "print(f\"✅ Modelo dinámico: {model_dynamic['name']}\")\n",
    "\n",
    "# Modelo para investigación (todos los análisis)\n",
    "model_research = helpers.create_research_model(\n",
    "    L_B_ratio, B, nx, ny, \"ejemplo_investigacion\",\n",
    "    static_steps=20, num_modes=10, dt=0.001, num_steps=5000, visualize=True\n",
    ")\n",
    "print(f\"✅ Modelo de investigación: {model_research['name']}\")\n",
    "\n",
    "# Modelo de prueba rápida (parámetros mínimos)\n",
    "model_quick = helpers.create_quick_test_model(\n",
    "    L_B_ratio, B, nx, ny, \"ejemplo_prueba_rapida\"\n",
    ")\n",
    "print(f\"✅ Modelo de prueba rápida: {model_quick['name']}\")\n",
    "\n",
    "print(f\"\\n📊 Total de modelos creados hasta ahora:\")\n",
    "model_files = [f for f in os.listdir(\"../models\") if f.endswith('.json')]\n",
    "print(f\"   Archivos JSON: {len(model_files)}\")"
   ]
  },
  {
   "cell_type": "code",
   "execution_count": null,
   "metadata": {},
   "outputs": [],
   "source": [
    "# Cargar y mostrar información del primer modelo creado (modelo core)\n",
    "with open(model_info['file_path'], 'r') as f:\n",
    "    model_data = json.load(f)\n",
    "\n",
    "print(\"=== INFORMACIÓN DEL MODELO CORE ===\")\n",
    "print(f\"Nombre: {model_data['name']}\")\n",
    "print(f\"Parámetros:\")\n",
    "for key, value in model_data['parameters'].items():\n",
    "    print(f\"  {key}: {value}\")\n",
    "\n",
    "print(f\"\\nGeometría:\")\n",
    "print(f\"  Dimensiones: {model_data['geometry']['length']} x {model_data['geometry']['width']} m\")\n",
    "print(f\"  Ejes: {model_data['geometry']['nx']} x {model_data['geometry']['ny']}\")\n",
    "print(f\"  Número de nodos: {len(model_data['nodes'])}\")\n",
    "print(f\"  Número de elementos: {len(model_data['elements'])}\")\n",
    "\n",
    "print(f\"\\nConfiguración de Análisis:\")\n",
    "if 'analysis_config' in model_data:\n",
    "    config = model_data['analysis_config']\n",
    "    print(f\"  Análisis habilitados: {config.get('enabled_analyses', ['static', 'modal'])}\")\n",
    "    \n",
    "    if 'static' in config:\n",
    "        print(f\"  Estático - Pasos: {config['static'].get('steps', 10)}\")\n",
    "    if 'modal' in config:\n",
    "        print(f\"  Modal - Modos: {config['modal'].get('num_modes', 6)}\")\n",
    "    if 'dynamic' in config:\n",
    "        print(f\"  Dinámico - dt: {config['dynamic'].get('dt', 0.01)}, Pasos: {config['dynamic'].get('num_steps', 1000)}\")\n",
    "        \n",
    "    if 'visualization' in config:\n",
    "        viz = config['visualization']\n",
    "        print(f\"  Visualización habilitada: {viz.get('enabled', True)}\")\n",
    "        if viz.get('enabled', True):\n",
    "            print(f\"    - Deformada estática: {viz.get('static_deformed', True)}\")\n",
    "            print(f\"    - Formas modales: {viz.get('modal_shapes', True)}\")\n",
    "else:\n",
    "    print(\"  Configuración de análisis por defecto (estático + modal)\")\n",
    "\n",
    "print(f\"\\nArchivo guardado en: {model_data['file_path']}\")"
   ]
  },
  {
   "cell_type": "markdown",
   "metadata": {},
   "source": [
    "## 4. Verificar Nombres de Modelos"
   ]
  },
  {
   "cell_type": "code",
   "execution_count": null,
   "metadata": {},
   "outputs": [],
   "source": [
    "# Probar diferentes combinaciones de parámetros\n",
    "test_cases = [\n",
    "    (1.0, 5.0, 2, 2),   # L/B=1.0, B=5m, nx=2, ny=2\n",
    "    (1.5, 10.0, 4, 3),  # L/B=1.5, B=10m, nx=4, ny=3\n",
    "    (2.0, 15.0, 6, 4),  # L/B=2.0, B=15m, nx=6, ny=4\n",
    "    (2.5, 20.0, 8, 5),  # L/B=2.5, B=20m, nx=8, ny=5\n",
    "]\n",
    "\n",
    "print(\"=== NOMBRES DE MODELOS GENERADOS ===\")\n",
    "for L_B, B, nx, ny in test_cases:\n",
    "    name = builder.generate_model_name(L_B, B, nx, ny)\n",
    "    print(f\"L/B={L_B}, B={B}m, nx={nx}, ny={ny} -> {name}\")"
   ]
  },
  {
   "cell_type": "markdown",
   "metadata": {},
   "source": [
    "## 5. Generar Múltiples Modelos"
   ]
  },
  {
   "cell_type": "code",
   "execution_count": null,
   "metadata": {},
   "outputs": [],
   "source": [
    "# Definir rangos de parámetros para análisis paramétrico\n",
    "L_B_ratios = [1.0, 1.5, 2.0]\n",
    "B_values = [5.0, 10.0, 15.0]\n",
    "nx_values = [3, 4]\n",
    "ny_values = [2, 3]\n",
    "\n",
    "print(\"Generando modelos paramétricos...\")\n",
    "print(f\"Relaciones L/B: {L_B_ratios}\")\n",
    "print(f\"Anchos B: {B_values}\")\n",
    "print(f\"Valores de nx: {nx_values}\")\n",
    "print(f\"Valores de ny: {ny_values}\")\n",
    "print(f\"Total de combinaciones: {len(L_B_ratios) * len(B_values) * len(nx_values) * len(ny_values)}\")\n",
    "\n",
    "# Crear ParametricRunner para generar múltiples modelos\n",
    "runner = ParametricRunner(\n",
    "    L_B_ratios=L_B_ratios,\n",
    "    B_values=B_values,\n",
    "    nx_values=nx_values,\n",
    "    ny_values=ny_values,\n",
    "    models_dir=\"../models\",\n",
    "    results_dir=\"../results\"\n",
    ")\n",
    "\n",
    "# Generar todos los modelos\n",
    "models = runner.generate_parametric_models(L_B_ratios, B_values, nx_values, ny_values)\n",
    "\n",
    "print(f\"\\nModelos creados exitosamente: {len(models)}\")"
   ]
  },
  {
   "cell_type": "markdown",
   "metadata": {},
   "source": [
    "## 6. Verificar Archivos Generados"
   ]
  },
  {
   "cell_type": "code",
   "execution_count": null,
   "metadata": {},
   "outputs": [],
   "source": [
    "# Listar archivos generados\n",
    "model_files = os.listdir(\"../models\")\n",
    "json_files = [f for f in model_files if f.endswith('.json')]\n",
    "\n",
    "print(f\"Archivos JSON en el directorio models: {len(json_files)}\")\n",
    "print(\"\\nPrimeros 10 archivos:\")\n",
    "for i, file in enumerate(sorted(json_files)[:10]):\n",
    "    print(f\"{i+1}. {file}\")"
   ]
  },
  {
   "cell_type": "markdown",
   "metadata": {},
   "source": [
    "## 7. Verificar Dimensiones y Nombres"
   ]
  },
  {
   "cell_type": "code",
   "execution_count": null,
   "metadata": {},
   "outputs": [],
   "source": [
    "# Verificar que las dimensiones se calculan correctamente\n",
    "print(\"=== VERIFICACIÓN DE DIMENSIONES ===\")\n",
    "for L_B_ratio in L_B_ratios:\n",
    "    for B in B_values:\n",
    "        # Calcular dimensiones usando la lógica del ModelBuilder\n",
    "        L = L_B_ratio * B\n",
    "        print(f\"L/B={L_B_ratio}, B={B}m -> L={L:.1f}m, B={B:.1f}m\")\n",
    "        print(f\"  Verificación: L/B = {L/B:.1f}\")\n",
    "\n",
    "# Verificar nombres de modelo\n",
    "print(\"\\n=== VERIFICACIÓN DE NOMBRES ===\")\n",
    "for L_B_ratio in [1.0, 1.5]:\n",
    "    for B in [10.0, 15.0]:\n",
    "        for nx in [3, 4]:\n",
    "            for ny in [2, 3]:\n",
    "                name = builder.generate_model_name(L_B_ratio, B, nx, ny)\n",
    "                print(f\"L/B={L_B_ratio}, B={B}m, nx={nx}, ny={ny} -> {name}\")"
   ]
  },
  {
   "cell_type": "markdown",
   "metadata": {},
   "source": [
    "## 8. Resumen de Verificación"
   ]
  },
  {
   "cell_type": "code",
   "execution_count": null,
   "metadata": {},
   "outputs": [],
   "source": [
    "print(\"=== RESUMEN DE VERIFICACIÓN ===\")\n",
    "print(f\"✓ Modelos creados: {len(models)}\")\n",
    "print(f\"✓ Archivos generados: {len(json_files)}\")\n",
    "print(f\"✓ Directorio de salida: {builder.output_dir}\")\n",
    "print(f\"✓ Parámetros fijos configurados: {len(builder.fixed_params)}\")\n",
    "\n",
    "# Verificar que al menos un modelo se creó correctamente\n",
    "if models:\n",
    "    sample_model = models[0]\n",
    "    print(f\"\\n✓ Ejemplo de modelo creado:\")\n",
    "    print(f\"  - Nombre: {sample_model['name']}\")\n",
    "    print(f\"  - Parámetros: L/B={sample_model['parameters']['L_B_ratio']}, \")\n",
    "    print(f\"    B={sample_model['parameters']['B']}m, \")\n",
    "    print(f\"    nx={sample_model['parameters']['nx']}, ny={sample_model['parameters']['ny']}\")\n",
    "    print(f\"  - Nodos: {len(sample_model['nodes'])}\")\n",
    "    print(f\"  - Elementos: {len(sample_model['elements'])}\")\n",
    "    print(f\"  - Archivo: {sample_model['file_path']}\")\n",
    "    \n",
    "    print(\"\\n✅ Verificación completada exitosamente!\")"
   ]
  }
 ],
 "metadata": {
  "kernelspec": {
   "display_name": "opensees",
   "language": "python",
   "name": "python3"
  },
  "language_info": {
   "codemirror_mode": {
    "name": "ipython",
    "version": 3
   },
   "file_extension": ".py",
   "mimetype": "text/x-python",
   "name": "python",
   "nbconvert_exporter": "python",
   "pygments_lexer": "ipython3",
   "version": "3.12.9"
  }
 },
 "nbformat": 4,
 "nbformat_minor": 4
}
