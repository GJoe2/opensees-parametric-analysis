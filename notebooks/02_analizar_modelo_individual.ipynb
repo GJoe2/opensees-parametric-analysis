{
 "cells": [
  {
   "cell_type": "markdown",
   "metadata": {},
   "source": [
    "# 02 - Análisis de Modelo Individual\n",
    "\n",
    "Este notebook demuestra cómo analizar un modelo individual usando la clase `AnalysisEngine`.\n",
    "\n",
    "## Objetivos:\n",
    "- Cargar un modelo desde archivo\n",
    "- Ejecutar análisis estático\n",
    "- Ejecutar análisis modal\n",
    "- Visualizar resultados básicos"
   ]
  },
  {
   "cell_type": "code",
   "execution_count": null,
   "metadata": {},
   "outputs": [],
   "source": [
    "import sys\n",
    "sys.path.append('../src')\n",
    "\n",
    "from analysis_engine import AnalysisEngine\n",
    "from model_builder import ModelBuilder\n",
    "from utils.model_helpers import ModelBuilderHelpers\n",
    "import json\n",
    "import os\n",
    "import numpy as np"
   ]
  },
  {
   "cell_type": "markdown",
   "metadata": {},
   "source": [
    "## 1. Inicializar el Motor de Análisis"
   ]
  },
  {
   "cell_type": "code",
   "execution_count": null,
   "metadata": {},
   "outputs": [],
   "source": [
    "# Inicializar el motor de análisis\n",
    "engine = AnalysisEngine(\n",
    "    models_dir=\"../models\",\n",
    "    results_dir=\"../results\"\n",
    ")\n",
    "\n",
    "print(\"Motor de análisis inicializado\")\n",
    "print(f\"Directorio de modelos: {engine.models_dir}\")\n",
    "print(f\"Directorio de resultados: {engine.results_dir}\")"
   ]
  },
  {
   "cell_type": "markdown",
   "metadata": {},
   "source": [
    "## 0. Crear Modelo de Prueba (Arquitectura Actualizada)\n",
    "\n",
    "Primero creamos un modelo usando la nueva arquitectura modular:"
   ]
  },
  {
   "cell_type": "code",
   "execution_count": null,
   "metadata": {},
   "outputs": [],
   "source": [
    "# Crear un modelo de prueba usando la arquitectura modular\n",
    "builder = ModelBuilder(output_dir=\"../models\")\n",
    "helpers = ModelBuilderHelpers(builder)\n",
    "\n",
    "# Crear modelo con configuración específica para demostración\n",
    "test_model = builder.create_model(\n",
    "    L_B_ratio=1.5, B=10.0, nx=3, ny=3,\n",
    "    model_name=\"test_analisis_individual\",\n",
    "    enabled_analyses=['static', 'modal'],\n",
    "    analysis_params={\n",
    "        'static': {'steps': 15},\n",
    "        'modal': {'num_modes': 8},\n",
    "        'visualization': {\n",
    "            'enabled': True,\n",
    "            'static_deformed': True,\n",
    "            'modal_shapes': True,\n",
    "            'deform_scale': 150\n",
    "        }\n",
    "    }\n",
    ")\n",
    "\n",
    "print(f\"✅ Modelo creado: {test_model['name']}\")\n",
    "print(f\"📁 Archivo: {test_model['file_path']}\")\n",
    "print(f\"🔧 Análisis configurados: {test_model.get('enabled_analyses', ['static', 'modal'])}\")\n",
    "\n",
    "# Este modelo será analizado en las siguientes secciones\n",
    "MODEL_NAME = test_model['name']"
   ]
  },
  {
   "cell_type": "markdown",
   "metadata": {},
   "source": [
    "## 2. Seleccionar un Modelo para Analizar"
   ]
  },
  {
   "cell_type": "code",
   "execution_count": null,
   "metadata": {},
   "outputs": [],
   "source": [
    "# Obtener lista de modelos disponibles\n",
    "model_files = engine.get_model_files()\n",
    "\n",
    "print(f\"Modelos disponibles: {len(model_files)}\")\n",
    "print(\"\\nPrimeros 5 modelos:\")\n",
    "for i, file in enumerate(model_files[:5]):\n",
    "    print(f\"{i+1}. {os.path.basename(file)}\")\n",
    "\n",
    "# Seleccionar el primer modelo para análisis\n",
    "if model_files:\n",
    "    selected_model = model_files[0]\n",
    "    print(f\"\\nModelo seleccionado: {os.path.basename(selected_model)}\")\n",
    "else:\n",
    "    print(\"No hay modelos disponibles. Ejecuta primero el notebook 01_crear_modelos.ipynb\")\n",
    "    selected_model = None"
   ]
  },
  {
   "cell_type": "markdown",
   "metadata": {},
   "source": [
    "## 3. Cargar y Verificar el Modelo"
   ]
  },
  {
   "cell_type": "code",
   "execution_count": null,
   "metadata": {},
   "outputs": [],
   "source": [
    "if selected_model:\n",
    "    # Cargar modelo\n",
    "    model_data = engine.load_model_from_file(selected_model)\n",
    "    \n",
    "    print(\"=== INFORMACIÓN DEL MODELO ===\")\n",
    "    print(f\"Nombre: {model_data['name']}\")\n",
    "    print(f\"Parámetros:\")\n",
    "    for key, value in model_data['parameters'].items():\n",
    "        print(f\"  {key}: {value}\")\n",
    "    \n",
    "    print(f\"\\nNodos: {len(model_data['nodes'])}\")\n",
    "    print(f\"Elementos: {len(model_data['elements'])}\")\n",
    "    print(f\"Cargas: {len(model_data['loads'])}\")"
   ]
  },
  {
   "cell_type": "markdown",
   "metadata": {},
   "source": [
    "## 4. Ejecutar Análisis Estático"
   ]
  },
  {
   "cell_type": "code",
   "execution_count": null,
   "metadata": {},
   "outputs": [],
   "source": [
    "if selected_model:\n",
    "    print(\"Ejecutando análisis estático...\")\n",
    "    \n",
    "    # Ejecutar análisis estático\n",
    "    static_results = engine.run_static_analysis(model_data)\n",
    "    \n",
    "    print(\"=== RESULTADOS DEL ANÁLISIS ESTÁTICO ===\")\n",
    "    print(f\"Éxito: {static_results['success']}\")\n",
    "    \n",
    "    if static_results['success']:\n",
    "        print(f\"Desplazamiento máximo: {static_results['max_displacement']:.6f} m\")\n",
    "        print(f\"Base de datos ODB creada: {static_results['odb_data'] is not None}\")\n",
    "    else:\n",
    "        print(f\"Error: {static_results.get('error', 'Error desconocido')}\")"
   ]
  },
  {
   "cell_type": "markdown",
   "metadata": {},
   "source": [
    "## 5. Ejecutar Análisis Modal"
   ]
  },
  {
   "cell_type": "code",
   "execution_count": null,
   "metadata": {},
   "outputs": [],
   "source": [
    "if selected_model:\n",
    "    print(\"\\nEjecutando análisis modal...\")\n",
    "    \n",
    "    # Ejecutar análisis modal\n",
    "    modal_results = engine.run_modal_analysis(model_data)\n",
    "    \n",
    "    print(\"=== RESULTADOS DEL ANÁLISIS MODAL ===\")\n",
    "    print(f\"Éxito: {modal_results['success']}\")\n",
    "    \n",
    "    if modal_results['success']:\n",
    "        print(f\"Número de modos calculados: {len(modal_results['frequencies'])}\")\n",
    "        print(\"\\nFrecuencias y períodos:\")\n",
    "        for i, (freq, period) in enumerate(zip(modal_results['frequencies'], modal_results['periods'])):\n",
    "            print(f\"  Modo {i+1}: f = {freq:.4f} Hz, T = {period:.4f} s\")\n",
    "    else:\n",
    "        print(f\"Error: {modal_results.get('error', 'Error desconocido')}\")"
   ]
  },
  {
   "cell_type": "markdown",
   "metadata": {},
   "source": [
    "## 6. Análisis Completo del Modelo"
   ]
  },
  {
   "cell_type": "code",
   "execution_count": null,
   "metadata": {},
   "outputs": [],
   "source": [
    "if selected_model:\n",
    "    print(\"\\nEjecutando análisis completo...\")\n",
    "    \n",
    "    # Ejecutar análisis completo\n",
    "    complete_results = engine.analyze_model(selected_model)\n",
    "    \n",
    "    print(\"=== RESULTADOS DEL ANÁLISIS COMPLETO ===\")\n",
    "    print(f\"Modelo: {complete_results['model_name']}\")\n",
    "    print(f\"Análisis estático exitoso: {complete_results['static_analysis']['success']}\")\n",
    "    print(f\"Análisis modal exitoso: {complete_results['modal_analysis']['success']}\")\n",
    "    \n",
    "    if complete_results['static_analysis']['success']:\n",
    "        print(f\"Desplazamiento máximo: {complete_results['static_analysis']['max_displacement']:.6f} m\")\n",
    "    \n",
    "    if complete_results['modal_analysis']['success']:\n",
    "        periods = complete_results['modal_analysis']['periods']\n",
    "        print(f\"Período fundamental: {periods[0]:.4f} s\")\n",
    "        print(f\"Segundo período: {periods[1]:.4f} s\" if len(periods) > 1 else \"Solo un modo disponible\")"
   ]
  },
  {
   "cell_type": "markdown",
   "metadata": {},
   "source": [
    "## 7. Crear Visualización Básica"
   ]
  },
  {
   "cell_type": "code",
   "execution_count": null,
   "metadata": {},
   "outputs": [],
   "source": [
    "if selected_model and complete_results['static_analysis']['success']:\n",
    "    print(\"\\nCreando visualización del modelo...\")\n",
    "    \n",
    "    # Crear visualización\n",
    "    html_file = engine.create_visualization(model_data)\n",
    "    \n",
    "    if html_file:\n",
    "        print(f\"Visualización guardada en: {html_file}\")\n",
    "        print(\"Abre el archivo HTML en tu navegador para ver el modelo\")\n",
    "    else:\n",
    "        print(\"Error al crear la visualización\")"
   ]
  },
  {
   "cell_type": "markdown",
   "metadata": {},
   "source": [
    "## 8. Verificar Archivos de Resultados"
   ]
  },
  {
   "cell_type": "code",
   "execution_count": null,
   "metadata": {},
   "outputs": [],
   "source": [
    "# Verificar archivos generados\n",
    "if os.path.exists(engine.results_dir):\n",
    "    result_files = os.listdir(engine.results_dir)\n",
    "    \n",
    "    print(\"=== ARCHIVOS DE RESULTADOS GENERADOS ===\")\n",
    "    print(f\"Total de archivos: {len(result_files)}\")\n",
    "    \n",
    "    for file in result_files:\n",
    "        print(f\"- {file}\")\n",
    "else:\n",
    "    print(\"Directorio de resultados no existe\")"
   ]
  },
  {
   "cell_type": "markdown",
   "metadata": {},
   "source": [
    "## 9. Resumen de Verificación"
   ]
  },
  {
   "cell_type": "code",
   "execution_count": null,
   "metadata": {},
   "outputs": [],
   "source": [
    "print(\"=== RESUMEN DE VERIFICACIÓN ===\")\n",
    "if selected_model:\n",
    "    print(f\"✓ Modelo analizado: {os.path.basename(selected_model)}\")\n",
    "    print(f\"✓ Análisis estático: {'✓' if complete_results['static_analysis']['success'] else '✗'}\")\n",
    "    print(f\"✓ Análisis modal: {'✓' if complete_results['modal_analysis']['success'] else '✗'}\")\n",
    "    print(f\"✓ Archivos de resultados generados: {len(os.listdir(engine.results_dir)) if os.path.exists(engine.results_dir) else 0}\")\n",
    "    \n",
    "    if complete_results['static_analysis']['success']:\n",
    "        print(f\"✓ Desplazamiento máximo calculado: {complete_results['static_analysis']['max_displacement']:.6f} m\")\n",
    "    \n",
    "    if complete_results['modal_analysis']['success']:\n",
    "        print(f\"✓ Modos calculados: {len(complete_results['modal_analysis']['frequencies'])}\")\n",
    "    \n",
    "    print(\"\\n✅ Verificación del motor de análisis completada!\")"
   ]
  }
 ],
 "metadata": {
  "kernelspec": {
   "display_name": "Python 3",
   "language": "python",
   "name": "python3"
  },
  "language_info": {
   "codemirror_mode": {
    "name": "ipython",
    "version": 3
   },
   "file_extension": ".py",
   "mimetype": "text/x-python",
   "name": "python",
   "nbconvert_exporter": "python",
   "pygments_lexer": "ipython3",
   "version": "3.8.5"
  }
 },
 "nbformat": 4,
 "nbformat_minor": 4
}
