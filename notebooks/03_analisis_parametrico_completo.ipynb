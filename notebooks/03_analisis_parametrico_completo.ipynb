{
 "cells": [
  {
   "cell_type": "markdown",
   "metadata": {},
   "source": [
    "# 03 - Análisis Paramétrico Completo\n",
    "\n",
    "Este notebook ejecuta el análisis paramétrico completo para todos los modelos generados.\n",
    "\n",
    "## Objetivos:\n",
    "- Analizar todos los modelos generados\n",
    "- Ejecutar análisis estáticos y modales\n",
    "- Generar resultados para reportes\n",
    "- Monitorear el progreso"
   ]
  },
  {
   "cell_type": "code",
   "execution_count": null,
   "metadata": {},
   "outputs": [],
   "source": [
    "import sys\n",
    "sys.path.append('../src')\n",
    "\n",
    "from analysis_engine import AnalysisEngine\n",
    "import os\n",
    "import time\n",
    "from datetime import datetime"
   ]
  },
  {
   "cell_type": "markdown",
   "metadata": {},
   "source": [
    "## 1. Inicializar el Motor de Análisis"
   ]
  },
  {
   "cell_type": "code",
   "execution_count": null,
   "metadata": {},
   "outputs": [],
   "source": [
    "# Inicializar el motor de análisis\n",
    "engine = AnalysisEngine(\n",
    "    models_dir=\"../models\",\n",
    "    results_dir=\"../results\"\n",
    ")\n",
    "\n",
    "print(\"Motor de análisis inicializado\")\n",
    "print(f\"Directorio de modelos: {engine.models_dir}\")\n",
    "print(f\"Directorio de resultados: {engine.results_dir}\")"
   ]
  },
  {
   "cell_type": "markdown",
   "metadata": {},
   "source": [
    "## 2. Obtener Lista de Modelos"
   ]
  },
  {
   "cell_type": "code",
   "execution_count": null,
   "metadata": {},
   "outputs": [],
   "source": [
    "# Obtener todos los modelos disponibles\n",
    "model_files = engine.get_model_files()\n",
    "\n",
    "print(f\"Total de modelos a analizar: {len(model_files)}\")\n",
    "\n",
    "if len(model_files) > 10:\n",
    "    print(\"\\nPrimeros 10 modelos:\")\n",
    "    for i, file in enumerate(model_files[:10]):\n",
    "        print(f\"{i+1}. {os.path.basename(file)}\")\n",
    "    print(f\"... y {len(model_files) - 10} más\")\n",
    "else:\n",
    "    print(\"\\nTodos los modelos:\")\n",
    "    for i, file in enumerate(model_files):\n",
    "        print(f\"{i+1}. {os.path.basename(file)}\")"
   ]
  },
  {
   "cell_type": "markdown",
   "metadata": {},
   "source": [
    "## 3. Verificar Modelos Ya Analizados"
   ]
  },
  {
   "cell_type": "code",
   "execution_count": null,
   "metadata": {},
   "outputs": [],
   "source": [
    "# Verificar qué modelos ya han sido analizados\n",
    "existing_results = []\n",
    "if os.path.exists(engine.results_dir):\n",
    "    existing_results = [f for f in os.listdir(engine.results_dir) if f.endswith('_results.json')]\n",
    "\n",
    "print(f\"Modelos ya analizados: {len(existing_results)}\")\n",
    "\n",
    "# Filtrar modelos que aún no han sido analizados\n",
    "model_names = [os.path.splitext(os.path.basename(f))[0] for f in model_files]\n",
    "analyzed_names = [f.replace('_results.json', '') for f in existing_results]\n",
    "\n",
    "pending_models = []\n",
    "for model_file in model_files:\n",
    "    model_name = os.path.splitext(os.path.basename(model_file))[0]\n",
    "    if model_name not in analyzed_names:\n",
    "        pending_models.append(model_file)\n",
    "\n",
    "print(f\"Modelos pendientes de análisis: {len(pending_models)}\")\n",
    "\n",
    "if len(pending_models) == 0:\n",
    "    print(\"\\n✅ Todos los modelos ya han sido analizados!\")\n",
    "else:\n",
    "    print(\"\\nModelos pendientes:\")\n",
    "    for i, file in enumerate(pending_models[:5]):\n",
    "        print(f\"{i+1}. {os.path.basename(file)}\")\n",
    "    if len(pending_models) > 5:\n",
    "        print(f\"... y {len(pending_models) - 5} más\")"
   ]
  },
  {
   "cell_type": "markdown",
   "metadata": {},
   "source": [
    "## 4. Ejecutar Análisis Paramétrico"
   ]
  },
  {
   "cell_type": "code",
   "execution_count": null,
   "metadata": {},
   "outputs": [],
   "source": [
    "if pending_models:\n",
    "    print(\"Iniciando análisis paramétrico...\")\n",
    "    print(f\"Hora de inicio: {datetime.now().strftime('%Y-%m-%d %H:%M:%S')}\")\n",
    "    \n",
    "    # Ejecutar análisis para todos los modelos pendientes\n",
    "    start_time = time.time()\n",
    "    \n",
    "    results = engine.analyze_multiple_models(pending_models)\n",
    "    \n",
    "    end_time = time.time()\n",
    "    elapsed_time = end_time - start_time\n",
    "    \n",
    "    print(f\"\\nAnálisis completado en {elapsed_time:.2f} segundos\")\n",
    "    print(f\"Modelos analizados exitosamente: {len(results)}\")\n",
    "    \n",
    "    # Estadísticas de éxito\n",
    "    static_success = sum(1 for r in results if r['static_analysis']['success'])\n",
    "    modal_success = sum(1 for r in results if r['modal_analysis']['success'])\n",
    "    \n",
    "    print(f\"Análisis estáticos exitosos: {static_success}/{len(results)}\")\n",
    "    print(f\"Análisis modales exitosos: {modal_success}/{len(results)}\")\n",
    "else:\n",
    "    print(\"No hay modelos pendientes de análisis.\")\n",
    "    results = []"
   ]
  },
  {
   "cell_type": "markdown",
   "metadata": {},
   "source": [
    "## 5. Cargar Todos los Resultados"
   ]
  },
  {
   "cell_type": "code",
   "execution_count": null,
   "metadata": {},
   "outputs": [],
   "source": [
    "# Cargar todos los resultados disponibles\n",
    "all_results = engine.load_all_results()\n",
    "\n",
    "print(f\"Total de resultados cargados: {len(all_results)}\")\n",
    "\n",
    "# Estadísticas generales\n",
    "if all_results:\n",
    "    static_success_total = sum(1 for r in all_results if r['static_analysis']['success'])\n",
    "    modal_success_total = sum(1 for r in all_results if r['modal_analysis']['success'])\n",
    "    \n",
    "    print(f\"\\n=== ESTADÍSTICAS GENERALES ===\")\n",
    "    print(f\"Total de modelos: {len(all_results)}\")\n",
    "    print(f\"Análisis estáticos exitosos: {static_success_total}/{len(all_results)} ({static_success_total/len(all_results)*100:.1f}%)\")\n",
    "    print(f\"Análisis modales exitosos: {modal_success_total}/{len(all_results)} ({modal_success_total/len(all_results)*100:.1f}%)\")\n",
    "    \n",
    "    # Desplazamientos máximos\n",
    "    max_displacements = [r['static_analysis']['max_displacement'] for r in all_results if r['static_analysis']['success']]\n",
    "    if max_displacements:\n",
    "        print(f\"\\nDesplazamientos máximos:\")\n",
    "        print(f\"  Máximo: {max(max_displacements):.6f} m\")\n",
    "        print(f\"  Mínimo: {min(max_displacements):.6f} m\")\n",
    "        print(f\"  Promedio: {sum(max_displacements)/len(max_displacements):.6f} m\")\n",
    "    \n",
    "    # Períodos fundamentales\n",
    "    fundamental_periods = [r['modal_analysis']['periods'][0] for r in all_results \n",
    "                          if r['modal_analysis']['success'] and r['modal_analysis']['periods']]\n",
    "    if fundamental_periods:\n",
    "        print(f\"\\nPeríodos fundamentales:\")\n",
    "        print(f\"  Máximo: {max(fundamental_periods):.4f} s\")\n",
    "        print(f\"  Mínimo: {min(fundamental_periods):.4f} s\")\n",
    "        print(f\"  Promedio: {sum(fundamental_periods)/len(fundamental_periods):.4f} s\")"
   ]
  },
  {
   "cell_type": "markdown",
   "metadata": {},
   "source": [
    "## 6. Verificar Archivos de Resultados"
   ]
  },
  {
   "cell_type": "code",
   "execution_count": null,
   "metadata": {},
   "outputs": [],
   "source": [
    "# Verificar archivos generados\n",
    "if os.path.exists(engine.results_dir):\n",
    "    result_files = os.listdir(engine.results_dir)\n",
    "    \n",
    "    print(\"=== ARCHIVOS DE RESULTADOS ===\")\n",
    "    print(f\"Total de archivos: {len(result_files)}\")\n",
    "    \n",
    "    # Categorizar archivos\n",
    "    json_files = [f for f in result_files if f.endswith('.json')]\n",
    "    html_files = [f for f in result_files if f.endswith('.html')]\n",
    "    \n",
    "    print(f\"Archivos JSON (resultados): {len(json_files)}\")\n",
    "    print(f\"Archivos HTML (visualizaciones): {len(html_files)}\")\n",
    "    \n",
    "    print(\"\\nEjemplos de archivos JSON:\")\n",
    "    for i, file in enumerate(json_files[:5]):\n",
    "        print(f\"  {i+1}. {file}\")\n",
    "    \n",
    "    if len(json_files) > 5:\n",
    "        print(f\"  ... y {len(json_files) - 5} más\")"
   ]
  },
  {
   "cell_type": "markdown",
   "metadata": {},
   "source": [
    "## 7. Resumen Final"
   ]
  },
  {
   "cell_type": "code",
   "execution_count": null,
   "metadata": {},
   "outputs": [],
   "source": [
    "print(\"=== RESUMEN FINAL ===\")\n",
    "print(f\"✓ Modelos totales: {len(model_files)}\")\n",
    "print(f\"✓ Resultados generados: {len(all_results)}\")\n",
    "print(f\"✓ Archivos de resultados: {len(json_files) if 'json_files' in locals() else 0}\")\n",
    "print(f\"✓ Archivos de visualización: {len(html_files) if 'html_files' in locals() else 0}\")\n",
    "\n",
    "if 'elapsed_time' in locals():\n",
    "    print(f\"✓ Tiempo total de análisis: {elapsed_time:.2f} segundos\")\n",
    "    if len(pending_models) > 0:\n",
    "        avg_time = elapsed_time / len(pending_models)\n",
    "        print(f\"✓ Tiempo promedio por modelo: {avg_time:.2f} segundos\")\n",
    "\n",
    "print(\"\\n✅ Análisis paramétrico completado exitosamente!\")\n",
    "print(\"\\nPróximos pasos:\")\n",
    "print(\"1. Ejecutar el notebook 04_generar_reportes.ipynb para crear reportes\")\n",
    "print(\"2. Revisar los archivos HTML de visualización\")\n",
    "print(\"3. Analizar los archivos CSV con los resultados\")"
   ]
  }
 ],
 "metadata": {
  "kernelspec": {
   "display_name": "Python 3",
   "language": "python",
   "name": "python3"
  },
  "language_info": {
   "codemirror_mode": {
    "name": "ipython",
    "version": 3
   },
   "file_extension": ".py",
   "mimetype": "text/x-python",
   "name": "python",
   "nbconvert_exporter": "python",
   "pygments_lexer": "ipython3",
   "name": "python",
   "nbconvert_exporter": "python",
   "pygments_lexer": "ipython3",
   "version": "3.8.5"
  }
 },
 "nbformat": 4,
 "nbformat_minor": 4
} 