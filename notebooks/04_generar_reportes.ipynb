 {
 "cells": [
  {
   "cell_type": "markdown",
   "metadata": {},
   "source": [
    "# 04 - Generar Reportes\n",
    "\n",
    "Este notebook genera reportes completos del análisis paramétrico usando la clase `ReportGenerator`.\n",
    "\n",
    "## Objetivos:\n",
    "- Cargar todos los resultados de análisis\n",
    "- Generar reportes de desplazamientos\n",
    "- Generar reportes modales\n",
    "- Crear reporte completo con visualizaciones"
   ]
  },
  {
   "cell_type": "code",
   "execution_count": null,
   "metadata": {},
   "outputs": [],
   "source": [
    "import sys\n",
    "sys.path.append('../src')\n",
    "\n",
    "from report_generator import ReportGenerator\n",
    "import os\n",
    "import pandas as pd"
   ]
  },
  {
   "cell_type": "markdown",
   "metadata": {},
   "source": [
    "## 1. Inicializar el Generador de Reportes"
   ]
  },
  {
   "cell_type": "code",
   "execution_count": null,
   "metadata": {},
   "outputs": [],
   "source": [
    "# Inicializar el generador de reportes\n",
    "reporter = ReportGenerator(\n",
    "    results_dir=\"../results\",\n",
    "    reports_dir=\"../reports\"\n",
    ")\n",
    "\n",
    "print(\"Generador de reportes inicializado\")\n",
    "print(f\"Directorio de resultados: {reporter.results_dir}\")\n",
    "print(f\"Directorio de reportes: {reporter.reports_dir}\")"
   ]
  },
  {
   "cell_type": "markdown",
   "metadata": {},
   "source": [
    "## 2. Cargar Todos los Resultados"
   ]
  },
  {
   "cell_type": "code",
   "execution_count": null,
   "metadata": {},
   "outputs": [],
   "source": [
    "# Cargar todos los resultados disponibles\n",
    "all_results = reporter.load_all_results()\n",
    "\n",
    "print(f\"Resultados cargados: {len(all_results)}\")\n",
    "\n",
    "if all_results:\n",
    "    print(\"\\nEjemplos de modelos analizados:\")\n",
    "    for i, result in enumerate(all_results[:5]):\n",
    "        print(f\"{i+1}. {result['model_name']}\")\n",
    "        print(f\"   L/B={result['model_parameters']['L_B_ratio']}, \")\n",
    "        print(f\"   nx={result['model_parameters']['nx']}, ny={result['model_parameters']['ny']}\")\n",
    "        print(f\"   Estático: {'✓' if result['static_analysis']['success'] else '✗'}\")\n",
    "        print(f\"   Modal: {'✓' if result['modal_analysis']['success'] else '✗'}\")\n",
    "    \n",
    "    if len(all_results) > 5:\n",
    "        print(f\"   ... y {len(all_results) - 5} más\")\n",
    "else:\n",
    "    print(\"No hay resultados disponibles. Ejecuta primero el notebook 03_analisis_parametrico_completo.ipynb\")"
   ]
  },
  {
   "cell_type": "markdown",
   "metadata": {},
   "source": [
    "## 3. Crear DataFrame Resumen"
   ]
  },
  {
   "cell_type": "code",
   "execution_count": null,
   "metadata": {},
   "outputs": [],
   "source": [
    "if all_results:\n",
    "    # Crear DataFrame resumen\n",
    "    df = reporter.create_summary_dataframe(all_results)\n",
    "    \n",
    "    print(\"=== DATAFRAME RESUMEN ===\")\n",
    "    print(f\"Dimensiones: {df.shape}\")\n",
    "    print(f\"Columnas: {list(df.columns)}\")\n",
    "    \n",
    "    print(\"\\nPrimeras 5 filas:\")\n",
    "    print(df.head())\n",
    "    \n",
    "    print(\"\\nEstadísticas básicas:\")\n",
    "    print(f\"Análisis estáticos exitosos: {df['static_success'].sum()}/{len(df)}\")\n",
    "    print(f\"Análisis modales exitosos: {df['modal_success'].sum()}/{len(df)}\")\n",
    "    \n",
    "    # Mostrar rangos de parámetros\n",
    "    print(f\"\\nRangos de parámetros:\")\n",
    "    print(f\"L/B ratios: {sorted(df['L_B_ratio'].unique())}\")\n",
    "    print(f\"nx valores: {sorted(df['nx'].unique())}\")\n",
    "    print(f\"ny valores: {sorted(df['ny'].unique())}\")"
   ]
  },
  {
   "cell_type": "markdown",
   "metadata": {},
   "source": [
    "## 4. Generar Reporte de Desplazamientos"
   ]
  },
  {
   "cell_type": "code",
   "execution_count": null,
   "metadata": {},
   "outputs": [],
   "source": [
    "if all_results:\n",
    "    print(\"Generando reporte de desplazamientos...\")\n",
    "    \n",
    "    displacement_report = reporter.generate_displacement_report(all_results)\n",
    "    \n",
    "    if displacement_report:\n",
    "        print(\"\\n=== REPORTE DE DESPLAZAMIENTOS ===\")\n",
    "        print(f\"Gráficas generadas: {len(displacement_report['plots'])}\")\n",
    "        for plot_name, plot_path in displacement_report['plots'].items():\n",
    "            print(f\"  - {plot_name}: {plot_path}\")\n",
    "        \n",
    "        print(f\"\\nArchivo CSV: {displacement_report['csv_file']}\")\n",
    "        \n",
    "        print(\"\\nEstadísticas:\")\n",
    "        stats = displacement_report['summary_stats']\n",
    "        print(f\"  - Total de modelos: {stats['total_models']}\")\n",
    "        print(f\"  - Modelos exitosos: {stats['successful_models']}\")\n",
    "        print(f\"  - Desplazamiento máximo: {stats['max_displacement']:.6f} m\")\n",
    "        print(f\"  - Desplazamiento mínimo: {stats['min_displacement']:.6f} m\")\n",
    "        print(f\"  - Desplazamiento promedio: {stats['mean_displacement']:.6f} m\")\n",
    "    else:\n",
    "        print(\"No se pudo generar el reporte de desplazamientos\")"
   ]
  },
  {
   "cell_type": "markdown",
   "metadata": {},
   "source": [
    "## 5. Generar Reporte Modal"
   ]
  },
  {
   "cell_type": "code",
   "execution_count": null,
   "metadata": {},
   "outputs": [],
   "source": [
    "if all_results:\n",
    "    print(\"\\nGenerando reporte modal...\")\n",
    "    \n",
    "    modal_report = reporter.generate_modal_report(all_results)\n",
    "    \n",
    "    if modal_report:\n",
    "        print(\"\\n=== REPORTE MODAL ===\")\n",
    "        print(f\"Gráficas generadas: {len(modal_report['plots'])}\")\n",
    "        for plot_name, plot_path in modal_report['plots'].items():\n",
    "            print(f\"  - {plot_name}: {plot_path}\")\n",
    "        \n",
    "        print(f\"\\nArchivo CSV: {modal_report['csv_file']}\")\n",
    "        \n",
    "        print(\"\\nEstadísticas:\")\n",
    "        stats = modal_report['summary_stats']\n",
    "        print(f\"  - Total de modelos: {stats['total_models']}\")\n",
    "        print(f\"  - Modelos exitosos: {stats['successful_models']}\")\n",
    "        print(f\"  - Período máximo: {stats['max_period']:.4f} s\")\n",
    "        print(f\"  - Período mínimo: {stats['min_period']:.4f} s\")\n",
    "        print(f\"  - Período promedio: {stats['mean_period']:.4f} s\")\n",
    "        print(f\"  - Frecuencia máxima: {stats['max_frequency']:.4f} Hz\")\n",
    "        print(f\"  - Frecuencia mínima: {stats['min_frequency']:.4f} Hz\")\n",
    "        print(f\"  - Frecuencia promedio: {stats['mean_frequency']:.4f} Hz\")\n",
    "    else:\n",
    "        print(\"No se pudo generar el reporte modal\")"
   ]
  },
  {
   "cell_type": "markdown",
   "metadata": {},
   "source": [
    "## 6. Generar Reporte Completo"
   ]
  },
  {
   "cell_type": "code",
   "execution_count": null,
   "metadata": {},
   "outputs": [],
   "source": [
    "if all_results:\n",
    "    print(\"\\nGenerando reporte completo...\")\n",
    "    \n",
    "    comprehensive_report = reporter.generate_comprehensive_report(all_results)\n",
    "    \n",
    "    print(\"\\n=== REPORTE COMPLETO ===\")\n",
    "    print(f\"Reporte HTML: {comprehensive_report['html_report']}\")\n",
    "    print(f\"Resumen ejecutivo: {comprehensive_report['summary_file']}\")\n",
    "    \n",
    "    print(\"\\nReportes individuales incluidos:\")\n",
    "    print(f\"  - Reporte de desplazamientos: {len(comprehensive_report['displacement_report']['plots'])} gráficas\")\n",
    "    print(f\"  - Reporte modal: {len(comprehensive_report['modal_report']['plots'])} gráficas\")"
   ]
  },
  {
   "cell_type": "markdown",
   "metadata": {},
   "source": [
    "## 7. Verificar Archivos Generados"
   ]
  },
  {
   "cell_type": "code",
   "execution_count": null,
   "metadata": {},
   "outputs": [],
   "source": [
    "# Verificar archivos de reportes generados\n",
    "if os.path.exists(reporter.reports_dir):\n",
    "    report_files = os.listdir(reporter.reports_dir)\n",
    "    \n",
    "    print(\"\\n=== ARCHIVOS DE REPORTES GENERADOS ===\")\n",
    "    print(f\"Total de archivos: {len(report_files)}\")\n",
    "    \n",
    "    # Categorizar archivos\n",
    "    png_files = [f for f in report_files if f.endswith('.png')]\n",
    "    html_files = [f for f in report_files if f.endswith('.html')]\n",
    "    csv_files = [f for f in report_files if f.endswith('.csv')]\n",
    "    txt_files = [f for f in report_files if f.endswith('.txt')]\n",
    "    \n",
    "    print(f\"\\nGráficas PNG: {len(png_files)}\")\n",
    "    for file in png_files:\n",
    "        print(f\"  - {file}\")\n",
    "    \n",
    "    print(f\"\\nArchivos HTML: {len(html_files)}\")\n",
    "    for file in html_files:\n",
    "        print(f\"  - {file}\")\n",
    "    \n",
    "    print(f\"\\nArchivos CSV: {len(csv_files)}\")\n",
    "    for file in csv_files:\n",
    "        print(f\"  - {file}\")\n",
    "    \n",
    "    print(f\"\\nArchivos TXT: {len(txt_files)}\")\n",
    "    for file in txt_files:\n",
    "        print(f\"  - {file}\")\n",
    "else:\n",
    "    print(\"Directorio de reportes no existe\")"
   ]
  },
  {
   "cell_type": "markdown",
   "metadata": {},
   "source": [
    "## 8. Mostrar Resumen Ejecutivo"
   ]
  },
  {
   "cell_type": "code",
   "execution_count": null,
   "metadata": {},
   "outputs": [],
   "source": [
    "# Mostrar contenido del resumen ejecutivo\n",
    "summary_file = os.path.join(reporter.reports_dir, 'executive_summary.txt')\n",
    "if os.path.exists(summary_file):\n",
    "    print(\"\\n=== RESUMEN EJECUTIVO ===\")\n",
    "    with open(summary_file, 'r', encoding='utf-8') as f:\n",
    "        content = f.read()\n",
    "        print(content)\n",
    "else:\n",
    "    print(\"Archivo de resumen ejecutivo no encontrado\")"
   ]
  },
  {
   "cell_type": "markdown",
   "metadata": {},
   "source": {},
   "source": [
    "## 9. Resumen Final"
   ]
  },
  {
   "cell_type": "code",
   "execution_count": null,
   "metadata": {},
   "outputs": [],
   "source": [
    "print(\"\\n=== RESUMEN FINAL ===\")\n",
    "print(f\"✓ Resultados analizados: {len(all_results)}\")\n",
    "print(f\"✓ Reportes generados: {len(report_files) if 'report_files' in locals() else 0}\")\n",
    "print(f\"✓ Gráficas creadas: {len(png_files) if 'png_files' in locals() else 0}\")\n",
    "print(f\"✓ Archivos HTML: {len(html_files) if 'html_files' in locals() else 0}\")\n",
    "print(f\"✓ Archivos CSV: {len(csv_files) if 'csv_files' in locals() else 0}\")\n",
    "\n",
    "print(\"\\n✅ Generación de reportes completada exitosamente!\")\n",
    "print(\"\\nArchivos importantes generados:\")\n",
    "print(\"1. comprehensive_report.html - Reporte completo en HTML\")\n",
    "print(\"2. executive_summary.txt - Resumen ejecutivo\")\n",
    "print(\"3. displacement_summary.csv - Datos de desplazamientos\")\n",
    "print(\"4. modal_summary.csv - Datos modales\")\n",
    "print(\"5. Gráficas PNG - Visualizaciones de resultados\")\n",
    "print(\"6. Gráficas HTML 3D - Visualizaciones interactivas\")\n",
    "\n",
    "print(\"\\nPróximos pasos:\")\n",
    "print(\"1. Abrir comprehensive_report.html en tu navegador\")\n",
    "print(\"2. Revisar las gráficas PNG generadas\")\n",
    "print(\"3. Analizar los archivos CSV con los datos\")\n",
    "print(\"4. Revisar el resumen ejecutivo\")"
   ]
  }
 ],
 "metadata": {
  "kernelspec": {
   "display_name": "Python 3",
   "language": "python",
   "name": "python3"
  },
  "language_info": {
   "codemirror_mode": {
    "name": "ipython",
    "version": 3
   },
   "file_extension": ".py",
   "mimetype": "text/x-python",
   "name": "python",
   "nbconvert_exporter": "python",
   "pygments_lexer": "ipython3",
   "version": "3.8.5"
  }
 },
 "nbformat": 4,
 "nbformat_minor": 4
}